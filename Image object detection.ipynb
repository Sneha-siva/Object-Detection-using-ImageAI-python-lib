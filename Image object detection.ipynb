{
 "cells": [
  {
   "cell_type": "code",
   "execution_count": null,
   "metadata": {},
   "outputs": [],
   "source": [
    "import tensorflow as tf\n",
    "from imageai.Detection import ObjectDetection\n",
    "import os\n",
    "current_directory = os.getcwd()\n",
    "detector = ObjectDetection()\n",
    "detector.setModelTypeAsYOLOv3()\n",
    "\n",
    "detector.setModelPath(os.path.join(current_directory , \"yolo.h5\"))\n",
    "detector.loadModel()\n",
    "\n",
    "detections = detector.detectObjectsFromImage(\n",
    "input_image = os.path.join(current_directory, \"citystreet.jpg\"), \n",
    "output_image_path = os.path.join(current_directory , \"citystreet_detected.jpg\")\n",
    ")\n",
    "\n",
    "for eachObject in detections:\n",
    "    print(\n",
    "         eachObject[\"name\"] , \" : \",\n",
    "         eachObject[\"percentage_probability\"], \" : \",\n",
    "         eachObject[\"box_points\"] )\n",
    "    print(\"--------------------------------\")"
   ]
  }
 ],
 "metadata": {
  "kernelspec": {
   "display_name": "Python 3",
   "language": "python",
   "name": "python3"
  },
  "language_info": {
   "codemirror_mode": {
    "name": "ipython",
    "version": 3
   },
   "file_extension": ".py",
   "mimetype": "text/x-python",
   "name": "python",
   "nbconvert_exporter": "python",
   "pygments_lexer": "ipython3",
   "version": "3.8.3"
  }
 },
 "nbformat": 4,
 "nbformat_minor": 4
}
